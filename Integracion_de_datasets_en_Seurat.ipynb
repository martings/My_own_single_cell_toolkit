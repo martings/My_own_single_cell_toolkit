{
  "nbformat": 4,
  "nbformat_minor": 0,
  "metadata": {
    "colab": {
      "provenance": [],
      "authorship_tag": "ABX9TyOsS8yV6Oy/TTcdlkmbeCgJ",
      "include_colab_link": true
    },
    "kernelspec": {
      "name": "ir",
      "display_name": "R"
    },
    "language_info": {
      "name": "R"
    }
  },
  "cells": [
    {
      "cell_type": "markdown",
      "metadata": {
        "id": "view-in-github",
        "colab_type": "text"
      },
      "source": [
        "<a href=\"https://colab.research.google.com/github/martings/My_own_single_cell_toolkit/blob/main/Integracion_de_datasets_en_Seurat.ipynb\" target=\"_parent\"><img src=\"https://colab.research.google.com/assets/colab-badge.svg\" alt=\"Open In Colab\"/></a>"
      ]
    },
    {
      "cell_type": "code",
      "source": [
        "install.packages('Seurat')\n",
        "#install.packages('tidyverse')\n",
        "library(Seurat)\n",
        "library(tifyverse)"
      ],
      "metadata": {
        "colab": {
          "base_uri": "https://localhost:8080/"
        },
        "id": "GqN0LugyVHru",
        "outputId": "43192de0-8ad1-4a92-e12d-dbfe6f5c4c86"
      },
      "execution_count": null,
      "outputs": [
        {
          "output_type": "stream",
          "name": "stderr",
          "text": [
            "Installing package into ‘/usr/local/lib/R/site-library’\n",
            "(as ‘lib’ is unspecified)\n",
            "\n",
            "also installing the dependencies ‘bitops’, ‘gtools’, ‘caTools’, ‘plyr’, ‘tensor’, ‘BH’, ‘sitmo’, ‘globals’, ‘listenv’, ‘parallelly’, ‘zoo’, ‘htmlwidgets’, ‘lazyeval’, ‘crosstalk’, ‘promises’, ‘RcppTOML’, ‘here’, ‘gplots’, ‘reshape2’, ‘gridExtra’, ‘RcppArmadillo’, ‘sp’, ‘httpuv’, ‘xtable’, ‘sourcetools’, ‘later’, ‘spatstat.data’, ‘spatstat.random’, ‘spatstat.utils’, ‘spatstat.sparse’, ‘goftest’, ‘abind’, ‘deldir’, ‘polyclip’, ‘FNN’, ‘dqrng’, ‘cowplot’, ‘fitdistrplus’, ‘future’, ‘future.apply’, ‘ggrepel’, ‘ggridges’, ‘ica’, ‘igraph’, ‘irlba’, ‘leiden’, ‘lmtest’, ‘matrixStats’, ‘miniUI’, ‘patchwork’, ‘pbapply’, ‘plotly’, ‘png’, ‘progressr’, ‘RANN’, ‘Rcpp’, ‘RcppAnnoy’, ‘reticulate’, ‘ROCR’, ‘Rtsne’, ‘scattermore’, ‘sctransform’, ‘SeuratObject’, ‘shiny’, ‘spatstat.explore’, ‘spatstat.geom’, ‘uwot’, ‘RcppEigen’, ‘RcppProgress’\n",
            "\n",
            "\n"
          ]
        }
      ]
    },
    {
      "cell_type": "code",
      "source": [
        "install.packages(\"gt\", quiet=TRUE)\n",
        "install.packages(\"tidyverse\", quiet=TRUE)\n",
        "suppressMessages({\n",
        "  library(gt)\n",
        "  library(tidyverse)\n",
        "})\n",
        "\n",
        "iris %>%\n",
        "  head() %>%\n",
        "  gt::gt() %>%\n",
        "  gt::tab_spanner_delim(delim = \".\") %>%\n",
        "  gt::cols_move_to_start(columns = Species) %>%\n",
        "  gt::fmt_number(\n",
        "    columns = c(Sepal.Length, Sepal.Width, Petal.Length, Petal.Width),\n",
        "    decimals = 1\n",
        "  ) %>%\n",
        "  gt::tab_header(\n",
        "    title = \"The iris dataset\",\n",
        "    subtitle = \"All about iris setosa, versicolor, and virginica\"\n",
        "  ) %>%\n",
        "  gt::tab_source_note(\n",
        "    source_note = \"The data were collected by Anderson (1935).\"\n",
        "  ) %>%\n",
        "  gt::opt_row_striping()"
      ],
      "metadata": {
        "id": "z2DX09l0Y7fA"
      },
      "execution_count": null,
      "outputs": []
    },
    {
      "cell_type": "code",
      "source": [
        "print(R.version.string)"
      ],
      "metadata": {
        "id": "JrJTSTRJY_K_"
      },
      "execution_count": null,
      "outputs": []
    },
    {
      "cell_type": "code",
      "source": [
        "suppressMessages({\n",
        "    library(tidyverse)\n",
        "})"
      ],
      "metadata": {
        "id": "EYe-zQgEZAlA"
      },
      "execution_count": null,
      "outputs": []
    },
    {
      "cell_type": "code",
      "execution_count": 1,
      "metadata": {
        "colab": {
          "base_uri": "https://localhost:8080/",
          "height": 134
        },
        "id": "tjmEEpU-U944",
        "outputId": "08fbbb00-eb0c-48ce-a092-4c69237f8ed0"
      },
      "outputs": [
        {
          "output_type": "error",
          "ename": "ERROR",
          "evalue": "ignored",
          "traceback": [
            "Error in library(Seurat): there is no package called ‘Seurat’\nTraceback:\n",
            "1. library(Seurat)"
          ]
        }
      ],
      "source": [
        "#Cargo los dataset de entrada para realizar la integracion\n",
        "\n",
        "Khaled_total<-readRDS(\"/SC_MG_Data/seurat_Khaled_geo_data.rds\")\n",
        "AdultMG_Spike<-readRDS(\"/SC_MG_Data/AdultMG_combined_BackUp.rds\")\n",
        "AdultMG_Visvader<-readRDS(\"/SC_MG_Data/Visvader.10x.combined.BackUP.dim30.rds\")\n",
        "\n",
        "#Armo una lista con todos los objetos a integrar\n",
        "seurat_object_list<-c(\"Khaled_total\",\"AdultMG_Spike\",\"AdultMG_Visvader\")\n",
        "pbmc.list <- list()\n",
        "for (i in seurat_object_list) {\n",
        "  pbmc.list[i] <- list(get(i))\n",
        "}\n",
        "#Borro los archivos originales de memoria RAM\n",
        "rm(Khaled_total)\n",
        "rm(AdultMG_Spike)\n",
        "rm(AdultMG_Visvader)\n",
        "\n",
        "#Transformo y normalizo los datos ori\n",
        "for (i in names(pbmc.list)) {\n",
        "  pbmc.list[[i]] <- SCTransform(pbmc.list[[i]], verbose = T)\n",
        "}\n",
        "\n",
        "\n",
        "pbmc.features <- SelectIntegrationFeatures(object.list = pbmc.list, nfeatures = 3000)\n",
        "pbmc.list <- PrepSCTIntegration(object.list = pbmc.list, anchor.features = pbmc.features)\n",
        "\n",
        "# This command returns dataset 5.  We can also specify multiple refs. (i.e. c(5,6))\n",
        "reference_dataset <- which(names(pbmc.list) == \"Khaled_total\")\n",
        "\n",
        "pbmc.anchors <- FindIntegrationAnchors(object.list = pbmc.list, normalization.method = \"SCT\", \n",
        "                                       anchor.features = pbmc.features, reference = reference_dataset)\n",
        "rm(pbmc.list)\n",
        "pbmc.integrated <- IntegrateData(anchorset = pbmc.anchors, normalization.method = \"SCT\")\n",
        "saveRDS(pbmc.integrated, \"pbmc.integrated.backup.rds\")\n",
        "rm(pbmc.anchors)\n",
        "pbmc.integrated <- RunPCA(object = pbmc.integrated, verbose = T)\n",
        "pbmc.integrated <- RunUMAP(object = pbmc.integrated, dims = 1:30)\n",
        "\n",
        "saveRDS(pbmc.integrated, \"pbmc.integrated.post.rds\")"
      ]
    }
  ]
}